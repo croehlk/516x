{
 "cells": [
  {
   "cell_type": "markdown",
   "metadata": {},
   "source": [
    "## Cameron Roehlk ABE 516X"
   ]
  },
  {
   "cell_type": "markdown",
   "metadata": {},
   "source": [
    "#### This notebook can be found on GitHub under isu-abe/516x/croehlk named Roehlk-Linear Regression Assignment.ipynb"
   ]
  },
  {
   "cell_type": "markdown",
   "metadata": {},
   "source": [
    "Task\n",
    "1. Develop a suitable model using existing dissolved reactive Phosphorous (DRP)\n",
    "2. Predict the missing DRP data using the model developed in Task 1"
   ]
  },
  {
   "cell_type": "code",
   "execution_count": 395,
   "metadata": {},
   "outputs": [],
   "source": [
    "import pandas as pd\n",
    "import numpy as np\n",
    "import seaborn as sns\n",
    "import matplotlib.pyplot as plt\n",
    "import statsmodels.formula.api as smf\n",
    "from sklearn.linear_model import LinearRegression"
   ]
  },
  {
   "cell_type": "code",
   "execution_count": 396,
   "metadata": {
    "scrolled": false
   },
   "outputs": [
    {
     "data": {
      "text/html": [
       "<div>\n",
       "<style scoped>\n",
       "    .dataframe tbody tr th:only-of-type {\n",
       "        vertical-align: middle;\n",
       "    }\n",
       "\n",
       "    .dataframe tbody tr th {\n",
       "        vertical-align: top;\n",
       "    }\n",
       "\n",
       "    .dataframe thead th {\n",
       "        text-align: right;\n",
       "    }\n",
       "</style>\n",
       "<table border=\"1\" class=\"dataframe\">\n",
       "  <thead>\n",
       "    <tr style=\"text-align: right;\">\n",
       "      <th></th>\n",
       "      <th>Sample date</th>\n",
       "      <th>Site</th>\n",
       "      <th>Flow (cms)</th>\n",
       "      <th>DRP (mg P/L)</th>\n",
       "      <th>TP (mg P/L)</th>\n",
       "      <th>TSS (mg/L)</th>\n",
       "      <th>VSS (mg/L)</th>\n",
       "    </tr>\n",
       "  </thead>\n",
       "  <tbody>\n",
       "    <tr>\n",
       "      <th>0</th>\n",
       "      <td>2015-05-19</td>\n",
       "      <td>S11</td>\n",
       "      <td>0.028210</td>\n",
       "      <td>0.018</td>\n",
       "      <td>0.0015</td>\n",
       "      <td>22.333667</td>\n",
       "      <td>19.264296</td>\n",
       "    </tr>\n",
       "    <tr>\n",
       "      <th>1</th>\n",
       "      <td>2015-06-16</td>\n",
       "      <td>S11</td>\n",
       "      <td>0.189993</td>\n",
       "      <td>0.027</td>\n",
       "      <td>0.1770</td>\n",
       "      <td>1006.666667</td>\n",
       "      <td>892.000000</td>\n",
       "    </tr>\n",
       "    <tr>\n",
       "      <th>2</th>\n",
       "      <td>2015-06-30</td>\n",
       "      <td>S11</td>\n",
       "      <td>1.296460</td>\n",
       "      <td>0.203</td>\n",
       "      <td>1.2590</td>\n",
       "      <td>1338.666667</td>\n",
       "      <td>1194.666667</td>\n",
       "    </tr>\n",
       "    <tr>\n",
       "      <th>3</th>\n",
       "      <td>2015-08-18</td>\n",
       "      <td>S11</td>\n",
       "      <td>0.131722</td>\n",
       "      <td>0.050</td>\n",
       "      <td>1.3280</td>\n",
       "      <td>2026.000000</td>\n",
       "      <td>1812.000000</td>\n",
       "    </tr>\n",
       "    <tr>\n",
       "      <th>4</th>\n",
       "      <td>2015-08-25</td>\n",
       "      <td>S11</td>\n",
       "      <td>0.120204</td>\n",
       "      <td>0.010</td>\n",
       "      <td>3.1180</td>\n",
       "      <td>1722.000000</td>\n",
       "      <td>1560.000000</td>\n",
       "    </tr>\n",
       "  </tbody>\n",
       "</table>\n",
       "</div>"
      ],
      "text/plain": [
       "  Sample date Site  Flow (cms)  DRP (mg P/L)  TP (mg P/L)   TSS (mg/L)  \\\n",
       "0  2015-05-19  S11    0.028210         0.018       0.0015    22.333667   \n",
       "1  2015-06-16  S11    0.189993         0.027       0.1770  1006.666667   \n",
       "2  2015-06-30  S11    1.296460         0.203       1.2590  1338.666667   \n",
       "3  2015-08-18  S11    0.131722         0.050       1.3280  2026.000000   \n",
       "4  2015-08-25  S11    0.120204         0.010       3.1180  1722.000000   \n",
       "\n",
       "    VSS (mg/L)  \n",
       "0    19.264296  \n",
       "1   892.000000  \n",
       "2  1194.666667  \n",
       "3  1812.000000  \n",
       "4  1560.000000  "
      ]
     },
     "execution_count": 396,
     "metadata": {},
     "output_type": "execute_result"
    }
   ],
   "source": [
    "#Import water data from Ji Yeow\n",
    "data = pd.read_excel(\"JY_linear_reg_data.xlsx\", sheet_name = \"Data\")\n",
    "data.head()\n",
    "# There are some values where no data was collected that need to be removed."
   ]
  },
  {
   "cell_type": "code",
   "execution_count": 397,
   "metadata": {
    "scrolled": false
   },
   "outputs": [
    {
     "data": {
      "text/html": [
       "<div>\n",
       "<style scoped>\n",
       "    .dataframe tbody tr th:only-of-type {\n",
       "        vertical-align: middle;\n",
       "    }\n",
       "\n",
       "    .dataframe tbody tr th {\n",
       "        vertical-align: top;\n",
       "    }\n",
       "\n",
       "    .dataframe thead th {\n",
       "        text-align: right;\n",
       "    }\n",
       "</style>\n",
       "<table border=\"1\" class=\"dataframe\">\n",
       "  <thead>\n",
       "    <tr style=\"text-align: right;\">\n",
       "      <th></th>\n",
       "      <th>Sample date</th>\n",
       "      <th>Site</th>\n",
       "      <th>Flow (cms)</th>\n",
       "      <th>DRP (mg P/L)</th>\n",
       "    </tr>\n",
       "  </thead>\n",
       "  <tbody>\n",
       "    <tr>\n",
       "      <th>0</th>\n",
       "      <td>2015-05-19</td>\n",
       "      <td>S11</td>\n",
       "      <td>0.028210</td>\n",
       "      <td>0.018</td>\n",
       "    </tr>\n",
       "    <tr>\n",
       "      <th>1</th>\n",
       "      <td>2015-06-16</td>\n",
       "      <td>S11</td>\n",
       "      <td>0.189993</td>\n",
       "      <td>0.027</td>\n",
       "    </tr>\n",
       "    <tr>\n",
       "      <th>2</th>\n",
       "      <td>2015-06-30</td>\n",
       "      <td>S11</td>\n",
       "      <td>1.296460</td>\n",
       "      <td>0.203</td>\n",
       "    </tr>\n",
       "    <tr>\n",
       "      <th>3</th>\n",
       "      <td>2015-08-18</td>\n",
       "      <td>S11</td>\n",
       "      <td>0.131722</td>\n",
       "      <td>0.050</td>\n",
       "    </tr>\n",
       "    <tr>\n",
       "      <th>4</th>\n",
       "      <td>2015-08-25</td>\n",
       "      <td>S11</td>\n",
       "      <td>0.120204</td>\n",
       "      <td>0.010</td>\n",
       "    </tr>\n",
       "  </tbody>\n",
       "</table>\n",
       "</div>"
      ],
      "text/plain": [
       "  Sample date Site  Flow (cms)  DRP (mg P/L)\n",
       "0  2015-05-19  S11    0.028210         0.018\n",
       "1  2015-06-16  S11    0.189993         0.027\n",
       "2  2015-06-30  S11    1.296460         0.203\n",
       "3  2015-08-18  S11    0.131722         0.050\n",
       "4  2015-08-25  S11    0.120204         0.010"
      ]
     },
     "execution_count": 397,
     "metadata": {},
     "output_type": "execute_result"
    }
   ],
   "source": [
    "#Drop the last three columns because they are not needed for this analysis\n",
    "data = data.drop(columns=['TP (mg P/L)','TSS (mg/L)','VSS (mg/L)'])\n",
    "data.head()"
   ]
  },
  {
   "cell_type": "code",
   "execution_count": 398,
   "metadata": {},
   "outputs": [],
   "source": [
    "data = data.rename(columns={'Flow (cms)':'Flow', 'DRP (mg P/L)':'DRP'})"
   ]
  },
  {
   "cell_type": "code",
   "execution_count": 399,
   "metadata": {},
   "outputs": [
    {
     "data": {
      "text/plain": [
       "<seaborn.axisgrid.PairGrid at 0x1a1df1ca20>"
      ]
     },
     "execution_count": 399,
     "metadata": {},
     "output_type": "execute_result"
    },
    {
     "data": {
      "image/png": "[encoded data removed]",
      "text/plain": [
       "<Figure size 407.8x504 with 1 Axes>"
      ]
     },
     "metadata": {
      "needs_background": "light"
     },
     "output_type": "display_data"
    }
   ],
   "source": [
    "#Visualization of the data\n",
    "sns.pairplot(data, x_vars=['DRP'], y_vars='Flow', hue = 'Site', height=7, aspect=0.7)"
   ]
  },
  {
   "cell_type": "code",
   "execution_count": 400,
   "metadata": {
    "scrolled": true
   },
   "outputs": [
    {
     "data": {
      "text/html": [
       "<div>\n",
       "<style scoped>\n",
       "    .dataframe tbody tr th:only-of-type {\n",
       "        vertical-align: middle;\n",
       "    }\n",
       "\n",
       "    .dataframe tbody tr th {\n",
       "        vertical-align: top;\n",
       "    }\n",
       "\n",
       "    .dataframe thead th {\n",
       "        text-align: right;\n",
       "    }\n",
       "</style>\n",
       "<table border=\"1\" class=\"dataframe\">\n",
       "  <thead>\n",
       "    <tr style=\"text-align: right;\">\n",
       "      <th></th>\n",
       "      <th>Sample date</th>\n",
       "      <th>Site</th>\n",
       "      <th>Flow</th>\n",
       "      <th>DRP</th>\n",
       "    </tr>\n",
       "  </thead>\n",
       "  <tbody>\n",
       "    <tr>\n",
       "      <th>0</th>\n",
       "      <td>2015-05-19</td>\n",
       "      <td>S11</td>\n",
       "      <td>0.028210</td>\n",
       "      <td>0.018</td>\n",
       "    </tr>\n",
       "    <tr>\n",
       "      <th>1</th>\n",
       "      <td>2015-06-16</td>\n",
       "      <td>S11</td>\n",
       "      <td>0.189993</td>\n",
       "      <td>0.027</td>\n",
       "    </tr>\n",
       "    <tr>\n",
       "      <th>2</th>\n",
       "      <td>2015-06-30</td>\n",
       "      <td>S11</td>\n",
       "      <td>1.296460</td>\n",
       "      <td>0.203</td>\n",
       "    </tr>\n",
       "    <tr>\n",
       "      <th>3</th>\n",
       "      <td>2015-08-18</td>\n",
       "      <td>S11</td>\n",
       "      <td>0.131722</td>\n",
       "      <td>0.050</td>\n",
       "    </tr>\n",
       "    <tr>\n",
       "      <th>4</th>\n",
       "      <td>2015-08-25</td>\n",
       "      <td>S11</td>\n",
       "      <td>0.120204</td>\n",
       "      <td>0.010</td>\n",
       "    </tr>\n",
       "    <tr>\n",
       "      <th>5</th>\n",
       "      <td>2015-09-01</td>\n",
       "      <td>S11</td>\n",
       "      <td>0.546236</td>\n",
       "      <td>0.064</td>\n",
       "    </tr>\n",
       "    <tr>\n",
       "      <th>6</th>\n",
       "      <td>2015-10-30</td>\n",
       "      <td>S11</td>\n",
       "      <td>0.037639</td>\n",
       "      <td>0.002</td>\n",
       "    </tr>\n",
       "    <tr>\n",
       "      <th>7</th>\n",
       "      <td>2015-10-30</td>\n",
       "      <td>S11</td>\n",
       "      <td>0.048967</td>\n",
       "      <td>0.008</td>\n",
       "    </tr>\n",
       "    <tr>\n",
       "      <th>8</th>\n",
       "      <td>2016-05-03</td>\n",
       "      <td>S11</td>\n",
       "      <td>0.249518</td>\n",
       "      <td>0.110</td>\n",
       "    </tr>\n",
       "    <tr>\n",
       "      <th>9</th>\n",
       "      <td>2016-05-17</td>\n",
       "      <td>S11</td>\n",
       "      <td>0.091356</td>\n",
       "      <td>0.001</td>\n",
       "    </tr>\n",
       "    <tr>\n",
       "      <th>10</th>\n",
       "      <td>2016-08-26</td>\n",
       "      <td>S11</td>\n",
       "      <td>0.047311</td>\n",
       "      <td>0.072</td>\n",
       "    </tr>\n",
       "    <tr>\n",
       "      <th>11</th>\n",
       "      <td>2016-09-23</td>\n",
       "      <td>S11</td>\n",
       "      <td>0.020529</td>\n",
       "      <td>0.001</td>\n",
       "    </tr>\n",
       "    <tr>\n",
       "      <th>12</th>\n",
       "      <td>2016-10-07</td>\n",
       "      <td>S11</td>\n",
       "      <td>0.041640</td>\n",
       "      <td>0.028</td>\n",
       "    </tr>\n",
       "    <tr>\n",
       "      <th>13</th>\n",
       "      <td>2016-10-07</td>\n",
       "      <td>S11</td>\n",
       "      <td>0.083826</td>\n",
       "      <td>0.028</td>\n",
       "    </tr>\n",
       "    <tr>\n",
       "      <th>14</th>\n",
       "      <td>2017-04-20</td>\n",
       "      <td>S11</td>\n",
       "      <td>0.099472</td>\n",
       "      <td>0.001</td>\n",
       "    </tr>\n",
       "    <tr>\n",
       "      <th>15</th>\n",
       "      <td>2017-04-20</td>\n",
       "      <td>S11</td>\n",
       "      <td>0.138589</td>\n",
       "      <td>0.001</td>\n",
       "    </tr>\n",
       "    <tr>\n",
       "      <th>16</th>\n",
       "      <td>2017-05-04</td>\n",
       "      <td>S11</td>\n",
       "      <td>0.143842</td>\n",
       "      <td>0.018</td>\n",
       "    </tr>\n",
       "    <tr>\n",
       "      <th>17</th>\n",
       "      <td>2017-05-31</td>\n",
       "      <td>S11</td>\n",
       "      <td>0.183644</td>\n",
       "      <td>0.029</td>\n",
       "    </tr>\n",
       "    <tr>\n",
       "      <th>18</th>\n",
       "      <td>2017-10-09</td>\n",
       "      <td>S11</td>\n",
       "      <td>0.063933</td>\n",
       "      <td>0.004</td>\n",
       "    </tr>\n",
       "    <tr>\n",
       "      <th>19</th>\n",
       "      <td>2018-05-07</td>\n",
       "      <td>S11</td>\n",
       "      <td>0.051614</td>\n",
       "      <td>0.001</td>\n",
       "    </tr>\n",
       "    <tr>\n",
       "      <th>20</th>\n",
       "      <td>2018-06-13</td>\n",
       "      <td>S11</td>\n",
       "      <td>0.082277</td>\n",
       "      <td>0.001</td>\n",
       "    </tr>\n",
       "    <tr>\n",
       "      <th>21</th>\n",
       "      <td>2018-06-22</td>\n",
       "      <td>S11</td>\n",
       "      <td>0.103414</td>\n",
       "      <td>NaN</td>\n",
       "    </tr>\n",
       "    <tr>\n",
       "      <th>22</th>\n",
       "      <td>2018-06-27</td>\n",
       "      <td>S11</td>\n",
       "      <td>0.189099</td>\n",
       "      <td>NaN</td>\n",
       "    </tr>\n",
       "    <tr>\n",
       "      <th>23</th>\n",
       "      <td>2018-08-28</td>\n",
       "      <td>S11</td>\n",
       "      <td>0.139378</td>\n",
       "      <td>0.011</td>\n",
       "    </tr>\n",
       "    <tr>\n",
       "      <th>24</th>\n",
       "      <td>2018-09-11</td>\n",
       "      <td>S11</td>\n",
       "      <td>0.120500</td>\n",
       "      <td>0.052</td>\n",
       "    </tr>\n",
       "    <tr>\n",
       "      <th>25</th>\n",
       "      <td>2018-09-11</td>\n",
       "      <td>S11</td>\n",
       "      <td>0.115396</td>\n",
       "      <td>0.014</td>\n",
       "    </tr>\n",
       "    <tr>\n",
       "      <th>26</th>\n",
       "      <td>2018-09-26</td>\n",
       "      <td>S11</td>\n",
       "      <td>0.085015</td>\n",
       "      <td>0.010</td>\n",
       "    </tr>\n",
       "    <tr>\n",
       "      <th>27</th>\n",
       "      <td>2018-10-11</td>\n",
       "      <td>S11</td>\n",
       "      <td>0.113744</td>\n",
       "      <td>0.047</td>\n",
       "    </tr>\n",
       "    <tr>\n",
       "      <th>28</th>\n",
       "      <td>2018-10-11</td>\n",
       "      <td>S11</td>\n",
       "      <td>0.156634</td>\n",
       "      <td>NaN</td>\n",
       "    </tr>\n",
       "  </tbody>\n",
       "</table>\n",
       "</div>"
      ],
      "text/plain": [
       "   Sample date Site      Flow    DRP\n",
       "0   2015-05-19  S11  0.028210  0.018\n",
       "1   2015-06-16  S11  0.189993  0.027\n",
       "2   2015-06-30  S11  1.296460  0.203\n",
       "3   2015-08-18  S11  0.131722  0.050\n",
       "4   2015-08-25  S11  0.120204  0.010\n",
       "5   2015-09-01  S11  0.546236  0.064\n",
       "6   2015-10-30  S11  0.037639  0.002\n",
       "7   2015-10-30  S11  0.048967  0.008\n",
       "8   2016-05-03  S11  0.249518  0.110\n",
       "9   2016-05-17  S11  0.091356  0.001\n",
       "10  2016-08-26  S11  0.047311  0.072\n",
       "11  2016-09-23  S11  0.020529  0.001\n",
       "12  2016-10-07  S11  0.041640  0.028\n",
       "13  2016-10-07  S11  0.083826  0.028\n",
       "14  2017-04-20  S11  0.099472  0.001\n",
       "15  2017-04-20  S11  0.138589  0.001\n",
       "16  2017-05-04  S11  0.143842  0.018\n",
       "17  2017-05-31  S11  0.183644  0.029\n",
       "18  2017-10-09  S11  0.063933  0.004\n",
       "19  2018-05-07  S11  0.051614  0.001\n",
       "20  2018-06-13  S11  0.082277  0.001\n",
       "21  2018-06-22  S11  0.103414    NaN\n",
       "22  2018-06-27  S11  0.189099    NaN\n",
       "23  2018-08-28  S11  0.139378  0.011\n",
       "24  2018-09-11  S11  0.120500  0.052\n",
       "25  2018-09-11  S11  0.115396  0.014\n",
       "26  2018-09-26  S11  0.085015  0.010\n",
       "27  2018-10-11  S11  0.113744  0.047\n",
       "28  2018-10-11  S11  0.156634    NaN"
      ]
     },
     "execution_count": 400,
     "metadata": {},
     "output_type": "execute_result"
    }
   ],
   "source": [
    "site11 = data[data['Site'] == \"S11\"]\n",
    "site11"
   ]
  },
  {
   "cell_type": "code",
   "execution_count": 401,
   "metadata": {},
   "outputs": [
    {
     "data": {
      "text/html": [
       "<div>\n",
       "<style scoped>\n",
       "    .dataframe tbody tr th:only-of-type {\n",
       "        vertical-align: middle;\n",
       "    }\n",
       "\n",
       "    .dataframe tbody tr th {\n",
       "        vertical-align: top;\n",
       "    }\n",
       "\n",
       "    .dataframe thead th {\n",
       "        text-align: right;\n",
       "    }\n",
       "</style>\n",
       "<table border=\"1\" class=\"dataframe\">\n",
       "  <thead>\n",
       "    <tr style=\"text-align: right;\">\n",
       "      <th></th>\n",
       "      <th>Sample date</th>\n",
       "      <th>Site</th>\n",
       "      <th>Flow</th>\n",
       "      <th>DRP</th>\n",
       "    </tr>\n",
       "  </thead>\n",
       "  <tbody>\n",
       "    <tr>\n",
       "      <th>29</th>\n",
       "      <td>2015-06-16</td>\n",
       "      <td>S12</td>\n",
       "      <td>0.102881</td>\n",
       "      <td>0.316</td>\n",
       "    </tr>\n",
       "    <tr>\n",
       "      <th>30</th>\n",
       "      <td>2015-07-21</td>\n",
       "      <td>S12</td>\n",
       "      <td>0.032054</td>\n",
       "      <td>0.028</td>\n",
       "    </tr>\n",
       "    <tr>\n",
       "      <th>31</th>\n",
       "      <td>2015-08-18</td>\n",
       "      <td>S12</td>\n",
       "      <td>0.040667</td>\n",
       "      <td>0.055</td>\n",
       "    </tr>\n",
       "    <tr>\n",
       "      <th>32</th>\n",
       "      <td>2015-08-25</td>\n",
       "      <td>S12</td>\n",
       "      <td>0.026085</td>\n",
       "      <td>0.003</td>\n",
       "    </tr>\n",
       "    <tr>\n",
       "      <th>33</th>\n",
       "      <td>2015-09-01</td>\n",
       "      <td>S12</td>\n",
       "      <td>0.172557</td>\n",
       "      <td>0.118</td>\n",
       "    </tr>\n",
       "  </tbody>\n",
       "</table>\n",
       "</div>"
      ],
      "text/plain": [
       "   Sample date Site      Flow    DRP\n",
       "29  2015-06-16  S12  0.102881  0.316\n",
       "30  2015-07-21  S12  0.032054  0.028\n",
       "31  2015-08-18  S12  0.040667  0.055\n",
       "32  2015-08-25  S12  0.026085  0.003\n",
       "33  2015-09-01  S12  0.172557  0.118"
      ]
     },
     "execution_count": 401,
     "metadata": {},
     "output_type": "execute_result"
    }
   ],
   "source": [
    "site12 = data[data['Site'] == \"S12\"]\n",
    "site12.head()"
   ]
  },
  {
   "cell_type": "code",
   "execution_count": 402,
   "metadata": {},
   "outputs": [
    {
     "name": "stdout",
     "output_type": "stream",
     "text": [
      "Sample date    0\n",
      "Site           0\n",
      "Flow           0\n",
      "DRP            3\n",
      "dtype: int64\n",
      "Sample date    0\n",
      "Site           0\n",
      "Flow           0\n",
      "DRP            4\n",
      "dtype: int64\n"
     ]
    }
   ],
   "source": [
    "print(site11.isnull().sum())\n",
    "print(site12.isnull().sum())"
   ]
  },
  {
   "cell_type": "markdown",
   "metadata": {},
   "source": [
    "There are three null values for S11 and four null values for S12."
   ]
  },
  {
   "cell_type": "code",
   "execution_count": 403,
   "metadata": {},
   "outputs": [
    {
     "data": {
      "text/html": [
       "<div>\n",
       "<style scoped>\n",
       "    .dataframe tbody tr th:only-of-type {\n",
       "        vertical-align: middle;\n",
       "    }\n",
       "\n",
       "    .dataframe tbody tr th {\n",
       "        vertical-align: top;\n",
       "    }\n",
       "\n",
       "    .dataframe thead th {\n",
       "        text-align: right;\n",
       "    }\n",
       "</style>\n",
       "<table border=\"1\" class=\"dataframe\">\n",
       "  <thead>\n",
       "    <tr style=\"text-align: right;\">\n",
       "      <th></th>\n",
       "      <th>Sample date</th>\n",
       "      <th>Site</th>\n",
       "      <th>Flow</th>\n",
       "      <th>DRP</th>\n",
       "    </tr>\n",
       "  </thead>\n",
       "  <tbody>\n",
       "    <tr>\n",
       "      <th>59</th>\n",
       "      <td>2018-08-21</td>\n",
       "      <td>S12</td>\n",
       "      <td>0.128687</td>\n",
       "      <td>NaN</td>\n",
       "    </tr>\n",
       "    <tr>\n",
       "      <th>60</th>\n",
       "      <td>2018-08-31</td>\n",
       "      <td>S12</td>\n",
       "      <td>0.028923</td>\n",
       "      <td>NaN</td>\n",
       "    </tr>\n",
       "    <tr>\n",
       "      <th>61</th>\n",
       "      <td>2018-09-06</td>\n",
       "      <td>S12</td>\n",
       "      <td>0.024730</td>\n",
       "      <td>NaN</td>\n",
       "    </tr>\n",
       "    <tr>\n",
       "      <th>62</th>\n",
       "      <td>2018-09-26</td>\n",
       "      <td>S12</td>\n",
       "      <td>0.022594</td>\n",
       "      <td>NaN</td>\n",
       "    </tr>\n",
       "  </tbody>\n",
       "</table>\n",
       "</div>"
      ],
      "text/plain": [
       "   Sample date Site      Flow  DRP\n",
       "59  2018-08-21  S12  0.128687  NaN\n",
       "60  2018-08-31  S12  0.028923  NaN\n",
       "61  2018-09-06  S12  0.024730  NaN\n",
       "62  2018-09-26  S12  0.022594  NaN"
      ]
     },
     "execution_count": 403,
     "metadata": {},
     "output_type": "execute_result"
    }
   ],
   "source": [
    "#Create new dataframes with just the null values\n",
    "site11null = site11[site11.isnull().any(axis=1)]\n",
    "site11null\n",
    "site12null = site12[site12.isnull().any(axis=1)]\n",
    "site12null"
   ]
  },
  {
   "cell_type": "code",
   "execution_count": 404,
   "metadata": {
    "scrolled": false
   },
   "outputs": [
    {
     "data": {
      "text/html": [
       "<div>\n",
       "<style scoped>\n",
       "    .dataframe tbody tr th:only-of-type {\n",
       "        vertical-align: middle;\n",
       "    }\n",
       "\n",
       "    .dataframe tbody tr th {\n",
       "        vertical-align: top;\n",
       "    }\n",
       "\n",
       "    .dataframe thead th {\n",
       "        text-align: right;\n",
       "    }\n",
       "</style>\n",
       "<table border=\"1\" class=\"dataframe\">\n",
       "  <thead>\n",
       "    <tr style=\"text-align: right;\">\n",
       "      <th></th>\n",
       "      <th>Sample date</th>\n",
       "      <th>Site</th>\n",
       "      <th>Flow</th>\n",
       "      <th>DRP</th>\n",
       "    </tr>\n",
       "  </thead>\n",
       "  <tbody>\n",
       "    <tr>\n",
       "      <th>23</th>\n",
       "      <td>2018-08-28</td>\n",
       "      <td>S11</td>\n",
       "      <td>0.139378</td>\n",
       "      <td>0.011</td>\n",
       "    </tr>\n",
       "    <tr>\n",
       "      <th>24</th>\n",
       "      <td>2018-09-11</td>\n",
       "      <td>S11</td>\n",
       "      <td>0.120500</td>\n",
       "      <td>0.052</td>\n",
       "    </tr>\n",
       "    <tr>\n",
       "      <th>25</th>\n",
       "      <td>2018-09-11</td>\n",
       "      <td>S11</td>\n",
       "      <td>0.115396</td>\n",
       "      <td>0.014</td>\n",
       "    </tr>\n",
       "    <tr>\n",
       "      <th>26</th>\n",
       "      <td>2018-09-26</td>\n",
       "      <td>S11</td>\n",
       "      <td>0.085015</td>\n",
       "      <td>0.010</td>\n",
       "    </tr>\n",
       "    <tr>\n",
       "      <th>27</th>\n",
       "      <td>2018-10-11</td>\n",
       "      <td>S11</td>\n",
       "      <td>0.113744</td>\n",
       "      <td>0.047</td>\n",
       "    </tr>\n",
       "  </tbody>\n",
       "</table>\n",
       "</div>"
      ],
      "text/plain": [
       "   Sample date Site      Flow    DRP\n",
       "23  2018-08-28  S11  0.139378  0.011\n",
       "24  2018-09-11  S11  0.120500  0.052\n",
       "25  2018-09-11  S11  0.115396  0.014\n",
       "26  2018-09-26  S11  0.085015  0.010\n",
       "27  2018-10-11  S11  0.113744  0.047"
      ]
     },
     "execution_count": 404,
     "metadata": {},
     "output_type": "execute_result"
    }
   ],
   "source": [
    "site11new = site11.dropna(axis = 0, how ='any')\n",
    "site11new.tail()"
   ]
  },
  {
   "cell_type": "code",
   "execution_count": 405,
   "metadata": {},
   "outputs": [
    {
     "data": {
      "text/html": [
       "<div>\n",
       "<style scoped>\n",
       "    .dataframe tbody tr th:only-of-type {\n",
       "        vertical-align: middle;\n",
       "    }\n",
       "\n",
       "    .dataframe tbody tr th {\n",
       "        vertical-align: top;\n",
       "    }\n",
       "\n",
       "    .dataframe thead th {\n",
       "        text-align: right;\n",
       "    }\n",
       "</style>\n",
       "<table border=\"1\" class=\"dataframe\">\n",
       "  <thead>\n",
       "    <tr style=\"text-align: right;\">\n",
       "      <th></th>\n",
       "      <th>Sample date</th>\n",
       "      <th>Site</th>\n",
       "      <th>Flow</th>\n",
       "      <th>DRP</th>\n",
       "    </tr>\n",
       "  </thead>\n",
       "  <tbody>\n",
       "    <tr>\n",
       "      <th>56</th>\n",
       "      <td>2018-06-20</td>\n",
       "      <td>S12</td>\n",
       "      <td>0.231406</td>\n",
       "      <td>0.177</td>\n",
       "    </tr>\n",
       "    <tr>\n",
       "      <th>57</th>\n",
       "      <td>2018-06-20</td>\n",
       "      <td>S12</td>\n",
       "      <td>0.311504</td>\n",
       "      <td>0.134</td>\n",
       "    </tr>\n",
       "    <tr>\n",
       "      <th>58</th>\n",
       "      <td>2018-07-02</td>\n",
       "      <td>S12</td>\n",
       "      <td>0.438978</td>\n",
       "      <td>0.154</td>\n",
       "    </tr>\n",
       "    <tr>\n",
       "      <th>63</th>\n",
       "      <td>2018-10-11</td>\n",
       "      <td>S12</td>\n",
       "      <td>0.024522</td>\n",
       "      <td>0.001</td>\n",
       "    </tr>\n",
       "    <tr>\n",
       "      <th>64</th>\n",
       "      <td>2018-10-11</td>\n",
       "      <td>S12</td>\n",
       "      <td>0.044039</td>\n",
       "      <td>0.003</td>\n",
       "    </tr>\n",
       "  </tbody>\n",
       "</table>\n",
       "</div>"
      ],
      "text/plain": [
       "   Sample date Site      Flow    DRP\n",
       "56  2018-06-20  S12  0.231406  0.177\n",
       "57  2018-06-20  S12  0.311504  0.134\n",
       "58  2018-07-02  S12  0.438978  0.154\n",
       "63  2018-10-11  S12  0.024522  0.001\n",
       "64  2018-10-11  S12  0.044039  0.003"
      ]
     },
     "execution_count": 405,
     "metadata": {},
     "output_type": "execute_result"
    }
   ],
   "source": [
    "site12new = site12.dropna(axis = 0, how ='any')\n",
    "site12new.tail()"
   ]
  },
  {
   "cell_type": "code",
   "execution_count": 406,
   "metadata": {
    "scrolled": true
   },
   "outputs": [
    {
     "name": "stdout",
     "output_type": "stream",
     "text": [
      "                            OLS Regression Results                            \n",
      "==============================================================================\n",
      "Dep. Variable:                    DRP   R-squared:                       0.719\n",
      "Model:                            OLS   Adj. R-squared:                  0.708\n",
      "Method:                 Least Squares   F-statistic:                     61.48\n",
      "Date:                Tue, 08 Oct 2019   Prob (F-statistic):           4.50e-08\n",
      "Time:                        00:07:14   Log-Likelihood:                 61.156\n",
      "No. Observations:                  26   AIC:                            -118.3\n",
      "Df Residuals:                      24   BIC:                            -115.8\n",
      "Df Model:                           1                                         \n",
      "Covariance Type:            nonrobust                                         \n",
      "==============================================================================\n",
      "                 coef    std err          t      P>|t|      [0.025      0.975]\n",
      "------------------------------------------------------------------------------\n",
      "Intercept      0.0068      0.006      1.199      0.242      -0.005       0.018\n",
      "Flow           0.1487      0.019      7.841      0.000       0.110       0.188\n",
      "==============================================================================\n",
      "Omnibus:                       13.007   Durbin-Watson:                   2.306\n",
      "Prob(Omnibus):                  0.001   Jarque-Bera (JB):               11.946\n",
      "Skew:                           1.467   Prob(JB):                      0.00255\n",
      "Kurtosis:                       4.554   Cond. No.                         4.15\n",
      "==============================================================================\n",
      "\n",
      "Warnings:\n",
      "[1] Standard Errors assume that the covariance matrix of the errors is correctly specified.\n"
     ]
    }
   ],
   "source": [
    "s11_model = smf.ols(formula='DRP ~ Flow', data=site11new).fit()\n",
    "print(s11_model.summary())"
   ]
  },
  {
   "cell_type": "markdown",
   "metadata": {},
   "source": [
    "The site 11 data set has a relatively high R-squared value. However, the P-vale for the intercept is well above 5% meaning it is not statistically significant."
   ]
  },
  {
   "cell_type": "code",
   "execution_count": 407,
   "metadata": {},
   "outputs": [
    {
     "name": "stdout",
     "output_type": "stream",
     "text": [
      "                            OLS Regression Results                            \n",
      "==============================================================================\n",
      "Dep. Variable:                    DRP   R-squared:                       0.413\n",
      "Model:                            OLS   Adj. R-squared:                  0.393\n",
      "Method:                 Least Squares   F-statistic:                     21.10\n",
      "Date:                Tue, 08 Oct 2019   Prob (F-statistic):           7.32e-05\n",
      "Time:                        00:07:15   Log-Likelihood:                 47.461\n",
      "No. Observations:                  32   AIC:                            -90.92\n",
      "Df Residuals:                      30   BIC:                            -87.99\n",
      "Df Model:                           1                                         \n",
      "Covariance Type:            nonrobust                                         \n",
      "==============================================================================\n",
      "                 coef    std err          t      P>|t|      [0.025      0.975]\n",
      "------------------------------------------------------------------------------\n",
      "Intercept      0.0116      0.013      0.918      0.366      -0.014       0.037\n",
      "Flow           0.4836      0.105      4.593      0.000       0.269       0.699\n",
      "==============================================================================\n",
      "Omnibus:                       47.570   Durbin-Watson:                   1.320\n",
      "Prob(Omnibus):                  0.000   Jarque-Bera (JB):              236.046\n",
      "Skew:                           3.113   Prob(JB):                     5.54e-52\n",
      "Kurtosis:                      14.759   Cond. No.                         10.6\n",
      "==============================================================================\n",
      "\n",
      "Warnings:\n",
      "[1] Standard Errors assume that the covariance matrix of the errors is correctly specified.\n"
     ]
    }
   ],
   "source": [
    "s12_model = smf.ols(formula='DRP ~ Flow', data=site12new).fit()\n",
    "print(s12_model.summary())"
   ]
  },
  {
   "cell_type": "markdown",
   "metadata": {},
   "source": [
    "Site 12 has a low R-squared value but it is statistically significant as the p-value is under 5%."
   ]
  },
  {
   "cell_type": "code",
   "execution_count": 408,
   "metadata": {},
   "outputs": [
    {
     "data": {
      "text/html": [
       "<div>\n",
       "<style scoped>\n",
       "    .dataframe tbody tr th:only-of-type {\n",
       "        vertical-align: middle;\n",
       "    }\n",
       "\n",
       "    .dataframe tbody tr th {\n",
       "        vertical-align: top;\n",
       "    }\n",
       "\n",
       "    .dataframe thead th {\n",
       "        text-align: right;\n",
       "    }\n",
       "</style>\n",
       "<table border=\"1\" class=\"dataframe\">\n",
       "  <thead>\n",
       "    <tr style=\"text-align: right;\">\n",
       "      <th></th>\n",
       "      <th>DRP ~ Flow</th>\n",
       "    </tr>\n",
       "  </thead>\n",
       "  <tbody>\n",
       "    <tr>\n",
       "      <th>21</th>\n",
       "      <td>0.022142</td>\n",
       "    </tr>\n",
       "    <tr>\n",
       "      <th>22</th>\n",
       "      <td>0.034885</td>\n",
       "    </tr>\n",
       "    <tr>\n",
       "      <th>28</th>\n",
       "      <td>0.030057</td>\n",
       "    </tr>\n",
       "  </tbody>\n",
       "</table>\n",
       "</div>"
      ],
      "text/plain": [
       "    DRP ~ Flow\n",
       "21    0.022142\n",
       "22    0.034885\n",
       "28    0.030057"
      ]
     },
     "execution_count": 408,
     "metadata": {},
     "output_type": "execute_result"
    }
   ],
   "source": [
    "#Predict the missing values into a new dataframe for site 11\n",
    "prediction11 = pd.DataFrame(columns=list('DRP ~ Flow'))\n",
    "predictnull_data11 = s11_model.predict(site11null['Flow'])\n",
    "prediction11.loc[:,'DRP ~ Flow'] = predictnull_data11\n",
    "prediction11.drop(prediction11.columns[0:10], axis=1, inplace=True) \n",
    "prediction11 \n"
   ]
  },
  {
   "cell_type": "code",
   "execution_count": 409,
   "metadata": {},
   "outputs": [
    {
     "data": {
      "text/html": [
       "<div>\n",
       "<style scoped>\n",
       "    .dataframe tbody tr th:only-of-type {\n",
       "        vertical-align: middle;\n",
       "    }\n",
       "\n",
       "    .dataframe tbody tr th {\n",
       "        vertical-align: top;\n",
       "    }\n",
       "\n",
       "    .dataframe thead th {\n",
       "        text-align: right;\n",
       "    }\n",
       "</style>\n",
       "<table border=\"1\" class=\"dataframe\">\n",
       "  <thead>\n",
       "    <tr style=\"text-align: right;\">\n",
       "      <th></th>\n",
       "      <th>DRP</th>\n",
       "      <th>Flow</th>\n",
       "      <th>Sample date</th>\n",
       "      <th>Site</th>\n",
       "    </tr>\n",
       "  </thead>\n",
       "  <tbody>\n",
       "    <tr>\n",
       "      <th>21</th>\n",
       "      <td>0.022142</td>\n",
       "      <td>0.103414</td>\n",
       "      <td>2018-06-22</td>\n",
       "      <td>S11</td>\n",
       "    </tr>\n",
       "    <tr>\n",
       "      <th>22</th>\n",
       "      <td>0.034885</td>\n",
       "      <td>0.189099</td>\n",
       "      <td>2018-06-27</td>\n",
       "      <td>S11</td>\n",
       "    </tr>\n",
       "    <tr>\n",
       "      <th>28</th>\n",
       "      <td>0.030057</td>\n",
       "      <td>0.156634</td>\n",
       "      <td>2018-10-11</td>\n",
       "      <td>S11</td>\n",
       "    </tr>\n",
       "  </tbody>\n",
       "</table>\n",
       "</div>"
      ],
      "text/plain": [
       "         DRP      Flow Sample date Site\n",
       "21  0.022142  0.103414  2018-06-22  S11\n",
       "22  0.034885  0.189099  2018-06-27  S11\n",
       "28  0.030057  0.156634  2018-10-11  S11"
      ]
     },
     "execution_count": 409,
     "metadata": {},
     "output_type": "execute_result"
    }
   ],
   "source": [
    "prediction11 = prediction11.rename(columns={'DRP ~ Flow': 'DRP'})\n",
    "prediction11 ['Flow'] = site11null ['Flow']\n",
    "prediction11 ['Sample date'] = site11null ['Sample date']\n",
    "prediction11 ['Site'] = 'S11'\n",
    "prediction11"
   ]
  },
  {
   "cell_type": "code",
   "execution_count": 410,
   "metadata": {},
   "outputs": [
    {
     "data": {
      "image/png": "[encoded data removed]",
      "text/plain": [
       "<Figure size 432x288 with 1 Axes>"
      ]
     },
     "metadata": {
      "needs_background": "light"
     },
     "output_type": "display_data"
    }
   ],
   "source": [
    "plt.scatter(site11['DRP'], site11['Flow'], label = 'Actual')\n",
    "plt.scatter(prediction11['DRP'], prediction11['Flow'], label='Predicted')\n",
    "plt.title(\"Site 11 Flow vs DRP\")\n",
    "plt.xlabel(\"DRP (mg P/L)\")\n",
    "plt.ylabel(\"Flow (cms)\")\n",
    "plt.legend()\n",
    "plt.show()"
   ]
  },
  {
   "cell_type": "code",
   "execution_count": 411,
   "metadata": {},
   "outputs": [
    {
     "name": "stdout",
     "output_type": "stream",
     "text": [
      "DRP            0\n",
      "Flow           0\n",
      "Sample date    0\n",
      "Site           0\n",
      "dtype: int64\n"
     ]
    }
   ],
   "source": [
    "#Merge the site 11 null values with the predicted values\n",
    "merged_data11 = pd.concat([site11new, prediction11], sort=True)\n",
    "merged_data11 = merged_data11.sort_values(by=['Sample date'])\n",
    "print(merged_data11.isnull().sum())"
   ]
  },
  {
   "cell_type": "code",
   "execution_count": 412,
   "metadata": {},
   "outputs": [
    {
     "data": {
      "text/html": [
       "<div>\n",
       "<style scoped>\n",
       "    .dataframe tbody tr th:only-of-type {\n",
       "        vertical-align: middle;\n",
       "    }\n",
       "\n",
       "    .dataframe tbody tr th {\n",
       "        vertical-align: top;\n",
       "    }\n",
       "\n",
       "    .dataframe thead th {\n",
       "        text-align: right;\n",
       "    }\n",
       "</style>\n",
       "<table border=\"1\" class=\"dataframe\">\n",
       "  <thead>\n",
       "    <tr style=\"text-align: right;\">\n",
       "      <th></th>\n",
       "      <th>DRP</th>\n",
       "      <th>Flow</th>\n",
       "      <th>Sample date</th>\n",
       "      <th>Site</th>\n",
       "    </tr>\n",
       "  </thead>\n",
       "  <tbody>\n",
       "    <tr>\n",
       "      <th>59</th>\n",
       "      <td>0.073823</td>\n",
       "      <td>0.128687</td>\n",
       "      <td>2018-08-21</td>\n",
       "      <td>S12</td>\n",
       "    </tr>\n",
       "    <tr>\n",
       "      <th>60</th>\n",
       "      <td>0.025572</td>\n",
       "      <td>0.028923</td>\n",
       "      <td>2018-08-31</td>\n",
       "      <td>S12</td>\n",
       "    </tr>\n",
       "    <tr>\n",
       "      <th>61</th>\n",
       "      <td>0.023544</td>\n",
       "      <td>0.024730</td>\n",
       "      <td>2018-09-06</td>\n",
       "      <td>S12</td>\n",
       "    </tr>\n",
       "    <tr>\n",
       "      <th>62</th>\n",
       "      <td>0.022511</td>\n",
       "      <td>0.022594</td>\n",
       "      <td>2018-09-26</td>\n",
       "      <td>S12</td>\n",
       "    </tr>\n",
       "  </tbody>\n",
       "</table>\n",
       "</div>"
      ],
      "text/plain": [
       "         DRP      Flow Sample date Site\n",
       "59  0.073823  0.128687  2018-08-21  S12\n",
       "60  0.025572  0.028923  2018-08-31  S12\n",
       "61  0.023544  0.024730  2018-09-06  S12\n",
       "62  0.022511  0.022594  2018-09-26  S12"
      ]
     },
     "execution_count": 412,
     "metadata": {},
     "output_type": "execute_result"
    }
   ],
   "source": [
    "#Predict the missing values into a new dataframe for site 12\n",
    "prediction12 = pd.DataFrame(columns=list('DRP ~ Flow'))\n",
    "predictnull_data12 = s12_model.predict(site12null['Flow'])\n",
    "prediction12.loc[:,'DRP ~ Flow'] = predictnull_data12\n",
    "prediction12.drop(prediction12.columns[0:10], axis=1, inplace=True) \n",
    "\n",
    "prediction12 ['Flow'] = site12null ['Flow']\n",
    "prediction12 ['Sample date'] = site12null ['Sample date']\n",
    "prediction12 ['Site'] = 'S12'\n",
    "prediction12 = prediction12.rename(columns={'DRP ~ Flow': 'DRP'})\n",
    "prediction12"
   ]
  },
  {
   "cell_type": "code",
   "execution_count": 413,
   "metadata": {},
   "outputs": [
    {
     "data": {
      "image/png": "[encoded data removed]",
      "text/plain": [
       "<Figure size 432x288 with 1 Axes>"
      ]
     },
     "metadata": {
      "needs_background": "light"
     },
     "output_type": "display_data"
    }
   ],
   "source": [
    "plt.scatter(site12['DRP'], site12['Flow'], label = 'Actual')\n",
    "plt.scatter(prediction12['DRP'], prediction12['Flow'], label='Predicted')\n",
    "plt.title(\"Site 12 Flow vs DRP\")\n",
    "plt.xlabel(\"DRP (mg P/L)\")\n",
    "plt.ylabel(\"Flow (cms)\")\n",
    "plt.legend()\n",
    "plt.show()"
   ]
  },
  {
   "cell_type": "code",
   "execution_count": 414,
   "metadata": {},
   "outputs": [
    {
     "name": "stdout",
     "output_type": "stream",
     "text": [
      "DRP            0\n",
      "Flow           0\n",
      "Sample date    0\n",
      "Site           0\n",
      "dtype: int64\n"
     ]
    }
   ],
   "source": [
    "#Merge the site 12 null values with the predicted values\n",
    "merged_data12 = pd.concat([site12new, prediction12], sort=True)\n",
    "merged_data12 = merged_data12.sort_values(by=['Sample date'])\n",
    "print(merged_data12.isnull().sum())"
   ]
  },
  {
   "cell_type": "code",
   "execution_count": 415,
   "metadata": {},
   "outputs": [
    {
     "name": "stdout",
     "output_type": "stream",
     "text": [
      "DRP            0\n",
      "Flow           0\n",
      "Sample date    0\n",
      "Site           0\n",
      "dtype: int64\n"
     ]
    }
   ],
   "source": [
    "#Now merge the mereged data from the two sites into a single data frame\n",
    "Finaldata = pd.concat([merged_data11,merged_data12])\n",
    "print(Finaldata.isnull().sum())\n"
   ]
  }
 ],
 "metadata": {
  "kernelspec": {
   "display_name": "Python 3",
   "language": "python",
   "name": "python3"
  },
  "language_info": {
   "codemirror_mode": {
    "name": "ipython",
    "version": 3
   },
   "file_extension": ".py",
   "mimetype": "text/x-python",
   "name": "python",
   "nbconvert_exporter": "python",
   "pygments_lexer": "ipython3",
   "version": "3.7.3"
  }
 },
 "nbformat": 4,
 "nbformat_minor": 2
}
